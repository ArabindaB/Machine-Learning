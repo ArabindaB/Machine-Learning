{
 "cells": [
  {
   "cell_type": "markdown",
   "id": "16bb7be3",
   "metadata": {},
   "source": [
    "# Introduction"
   ]
  },
  {
   "cell_type": "markdown",
   "id": "d69f68b6",
   "metadata": {},
   "source": [
    "The input data used for training in this project consists of two files. The first file, train_time_series.csv, \n",
    "contains the raw accelerometer data, which has been collected using the Beiwe research platform, and it has the \n",
    "following format:\n",
    "\n",
    "timestamp, UTC time, accuracy, x, y, z\n",
    "\n",
    "You can use the timestamp column as your time variable; you'll also need the last three columns, here labeled x, y, and z, which correspond to measurements of linear acceleration along each of the three orthogonal axes.\n",
    "\n",
    "The second file, train_labels.csv, contains the activity labels, and you'll be using these labels to train your model. Different activities have been numbered with integers. We use the following encoding: 1 = standing, 2 = walking, 3 = stairs down, 4 = stairs up. Because the accelerometers are sampled at high frequency, the labels in train_labels.csv are only provided for every 10th observation in train_time_series.csv."
   ]
  },
  {
   "cell_type": "markdown",
   "id": "51755c27",
   "metadata": {},
   "source": [
    "# Activity Classification"
   ]
  },
  {
   "cell_type": "markdown",
   "id": "62543305",
   "metadata": {},
   "source": [
    "\n",
    "The goal is to classify different physical activities as accurately as possible. We're provided with four csv files which contain the training data, training labels, testing data and testing label. As the labels are separated from training data, we need to combine the data sets as one to get a complete picture. \n",
    "\n",
    "The notebook is organized as follows: First, I will clean the data and do necessary modification to the features which will make it is easy to visualize the data. Then I will extract the data, and augment the given training data set for visualization and training. Once the complete data set is ready,  I will use the matplot library and seborn library to explore the data and visualize for a better understanding of the data.\n",
    "\n",
    "In the susequent sections that will follow after exploratory data analysis, I will explore different algorithms available for training and testing for accuracy. In this section, I will use GridSearchCV to find best model suitable for our data set. Once I select the model, I'll proceed to find best parameters for that model which can give us more accurate answers. \n",
    "\n",
    "Once we're done with model and parameter selection, we'll train our model with the best parameters, and then using the model, we'll predict the activity for the data in test_time_series.csv file. Finally, I conclude the project with a conclusion section."
   ]
  },
  {
   "cell_type": "code",
   "execution_count": 1,
   "id": "77c6bcd5",
   "metadata": {},
   "outputs": [
    {
     "name": "stdout",
     "output_type": "stream",
     "text": [
      "Length train_time_series 3744 train_labels 375\n",
      "Length test_labels 125 test_time_series 1250\n"
     ]
    },
    {
     "data": {
      "text/html": [
       "<div>\n",
       "<style scoped>\n",
       "    .dataframe tbody tr th:only-of-type {\n",
       "        vertical-align: middle;\n",
       "    }\n",
       "\n",
       "    .dataframe tbody tr th {\n",
       "        vertical-align: top;\n",
       "    }\n",
       "\n",
       "    .dataframe thead th {\n",
       "        text-align: right;\n",
       "    }\n",
       "</style>\n",
       "<table border=\"1\" class=\"dataframe\">\n",
       "  <thead>\n",
       "    <tr style=\"text-align: right;\">\n",
       "      <th></th>\n",
       "      <th>Unnamed: 0</th>\n",
       "      <th>timestamp</th>\n",
       "      <th>UTC time</th>\n",
       "      <th>accuracy</th>\n",
       "      <th>x</th>\n",
       "      <th>y</th>\n",
       "      <th>z</th>\n",
       "    </tr>\n",
       "  </thead>\n",
       "  <tbody>\n",
       "    <tr>\n",
       "      <th>0</th>\n",
       "      <td>20586</td>\n",
       "      <td>1565109930787</td>\n",
       "      <td>2019-08-06T16:45:30.787</td>\n",
       "      <td>unknown</td>\n",
       "      <td>-0.006485</td>\n",
       "      <td>-0.934860</td>\n",
       "      <td>-0.069046</td>\n",
       "    </tr>\n",
       "    <tr>\n",
       "      <th>1</th>\n",
       "      <td>20587</td>\n",
       "      <td>1565109930887</td>\n",
       "      <td>2019-08-06T16:45:30.887</td>\n",
       "      <td>unknown</td>\n",
       "      <td>-0.066467</td>\n",
       "      <td>-1.015442</td>\n",
       "      <td>0.089554</td>\n",
       "    </tr>\n",
       "    <tr>\n",
       "      <th>2</th>\n",
       "      <td>20588</td>\n",
       "      <td>1565109930987</td>\n",
       "      <td>2019-08-06T16:45:30.987</td>\n",
       "      <td>unknown</td>\n",
       "      <td>-0.043488</td>\n",
       "      <td>-1.021255</td>\n",
       "      <td>0.178467</td>\n",
       "    </tr>\n",
       "    <tr>\n",
       "      <th>3</th>\n",
       "      <td>20589</td>\n",
       "      <td>1565109931087</td>\n",
       "      <td>2019-08-06T16:45:31.087</td>\n",
       "      <td>unknown</td>\n",
       "      <td>-0.053802</td>\n",
       "      <td>-0.987701</td>\n",
       "      <td>0.068985</td>\n",
       "    </tr>\n",
       "    <tr>\n",
       "      <th>4</th>\n",
       "      <td>20590</td>\n",
       "      <td>1565109931188</td>\n",
       "      <td>2019-08-06T16:45:31.188</td>\n",
       "      <td>unknown</td>\n",
       "      <td>-0.054031</td>\n",
       "      <td>-1.003616</td>\n",
       "      <td>0.126450</td>\n",
       "    </tr>\n",
       "    <tr>\n",
       "      <th>...</th>\n",
       "      <td>...</td>\n",
       "      <td>...</td>\n",
       "      <td>...</td>\n",
       "      <td>...</td>\n",
       "      <td>...</td>\n",
       "      <td>...</td>\n",
       "      <td>...</td>\n",
       "    </tr>\n",
       "    <tr>\n",
       "      <th>3739</th>\n",
       "      <td>24325</td>\n",
       "      <td>1565110305638</td>\n",
       "      <td>2019-08-06T16:51:45.638</td>\n",
       "      <td>unknown</td>\n",
       "      <td>0.024384</td>\n",
       "      <td>-0.710709</td>\n",
       "      <td>0.030304</td>\n",
       "    </tr>\n",
       "    <tr>\n",
       "      <th>3740</th>\n",
       "      <td>24326</td>\n",
       "      <td>1565110305738</td>\n",
       "      <td>2019-08-06T16:51:45.738</td>\n",
       "      <td>unknown</td>\n",
       "      <td>0.487228</td>\n",
       "      <td>-1.099136</td>\n",
       "      <td>-0.015213</td>\n",
       "    </tr>\n",
       "    <tr>\n",
       "      <th>3741</th>\n",
       "      <td>24327</td>\n",
       "      <td>1565110305838</td>\n",
       "      <td>2019-08-06T16:51:45.838</td>\n",
       "      <td>unknown</td>\n",
       "      <td>0.369446</td>\n",
       "      <td>-0.968506</td>\n",
       "      <td>0.036713</td>\n",
       "    </tr>\n",
       "    <tr>\n",
       "      <th>3742</th>\n",
       "      <td>24328</td>\n",
       "      <td>1565110305939</td>\n",
       "      <td>2019-08-06T16:51:45.939</td>\n",
       "      <td>unknown</td>\n",
       "      <td>0.167877</td>\n",
       "      <td>-0.802826</td>\n",
       "      <td>0.049805</td>\n",
       "    </tr>\n",
       "    <tr>\n",
       "      <th>3743</th>\n",
       "      <td>24329</td>\n",
       "      <td>1565110306039</td>\n",
       "      <td>2019-08-06T16:51:46.039</td>\n",
       "      <td>unknown</td>\n",
       "      <td>0.689346</td>\n",
       "      <td>-0.991043</td>\n",
       "      <td>0.034973</td>\n",
       "    </tr>\n",
       "  </tbody>\n",
       "</table>\n",
       "<p>3744 rows × 7 columns</p>\n",
       "</div>"
      ],
      "text/plain": [
       "      Unnamed: 0      timestamp                 UTC time accuracy         x  \\\n",
       "0          20586  1565109930787  2019-08-06T16:45:30.787  unknown -0.006485   \n",
       "1          20587  1565109930887  2019-08-06T16:45:30.887  unknown -0.066467   \n",
       "2          20588  1565109930987  2019-08-06T16:45:30.987  unknown -0.043488   \n",
       "3          20589  1565109931087  2019-08-06T16:45:31.087  unknown -0.053802   \n",
       "4          20590  1565109931188  2019-08-06T16:45:31.188  unknown -0.054031   \n",
       "...          ...            ...                      ...      ...       ...   \n",
       "3739       24325  1565110305638  2019-08-06T16:51:45.638  unknown  0.024384   \n",
       "3740       24326  1565110305738  2019-08-06T16:51:45.738  unknown  0.487228   \n",
       "3741       24327  1565110305838  2019-08-06T16:51:45.838  unknown  0.369446   \n",
       "3742       24328  1565110305939  2019-08-06T16:51:45.939  unknown  0.167877   \n",
       "3743       24329  1565110306039  2019-08-06T16:51:46.039  unknown  0.689346   \n",
       "\n",
       "             y         z  \n",
       "0    -0.934860 -0.069046  \n",
       "1    -1.015442  0.089554  \n",
       "2    -1.021255  0.178467  \n",
       "3    -0.987701  0.068985  \n",
       "4    -1.003616  0.126450  \n",
       "...        ...       ...  \n",
       "3739 -0.710709  0.030304  \n",
       "3740 -1.099136 -0.015213  \n",
       "3741 -0.968506  0.036713  \n",
       "3742 -0.802826  0.049805  \n",
       "3743 -0.991043  0.034973  \n",
       "\n",
       "[3744 rows x 7 columns]"
      ]
     },
     "execution_count": 1,
     "metadata": {},
     "output_type": "execute_result"
    }
   ],
   "source": [
    "import pandas as pd\n",
    "import numpy as np\n",
    "import matplotlib.pyplot as plt\n",
    "import seaborn as sns\n",
    "\n",
    "# read the csv file using pandas library\n",
    "\n",
    "time_series = pd.read_csv(\"train_time_series.csv\")\n",
    "train_labels = pd.read_csv(\"train_labels.csv\")\n",
    "test_labels = pd.read_csv(\"test_labels.csv\")\n",
    "test_time_series = pd.read_csv(\"test_time_series.csv\")\n",
    "\n",
    "# check the length of each data frame. This will be useful during training as we need equal length of predictor and \n",
    "# target variable.\n",
    "\n",
    "print(\"Length train_time_series {} train_labels {}\".format(len(time_series),len(train_labels)))\n",
    "print(\"Length test_labels {} test_time_series {}\".format(len(test_labels), len(test_time_series)))\n",
    "\n",
    "time_series"
   ]
  },
  {
   "cell_type": "code",
   "execution_count": 2,
   "id": "4e399aed",
   "metadata": {},
   "outputs": [],
   "source": [
    "# drop the columns which doesn't contain useful data\n",
    "df1_test_labels = test_labels.drop(['label'], axis=1) # label column contains only Nan values. so remove it.\n",
    "df1_time_series =time_series.drop(['accuracy'], axis=1) # accuracy values are unknown so will not be used in training\n"
   ]
  },
  {
   "cell_type": "code",
   "execution_count": 3,
   "id": "c649cf1b",
   "metadata": {},
   "outputs": [
    {
     "data": {
      "text/html": [
       "<div>\n",
       "<style scoped>\n",
       "    .dataframe tbody tr th:only-of-type {\n",
       "        vertical-align: middle;\n",
       "    }\n",
       "\n",
       "    .dataframe tbody tr th {\n",
       "        vertical-align: top;\n",
       "    }\n",
       "\n",
       "    .dataframe thead th {\n",
       "        text-align: right;\n",
       "    }\n",
       "</style>\n",
       "<table border=\"1\" class=\"dataframe\">\n",
       "  <thead>\n",
       "    <tr style=\"text-align: right;\">\n",
       "      <th></th>\n",
       "      <th>Unnamed: 0</th>\n",
       "      <th>timestamp</th>\n",
       "      <th>UTC time</th>\n",
       "      <th>x</th>\n",
       "      <th>y</th>\n",
       "      <th>z</th>\n",
       "    </tr>\n",
       "  </thead>\n",
       "  <tbody>\n",
       "    <tr>\n",
       "      <th>0</th>\n",
       "      <td>20586</td>\n",
       "      <td>1565109930787</td>\n",
       "      <td>2019-08-06T16:45:30.787</td>\n",
       "      <td>-0.006485</td>\n",
       "      <td>-0.934860</td>\n",
       "      <td>-0.069046</td>\n",
       "    </tr>\n",
       "    <tr>\n",
       "      <th>1</th>\n",
       "      <td>20587</td>\n",
       "      <td>1565109930887</td>\n",
       "      <td>2019-08-06T16:45:30.887</td>\n",
       "      <td>-0.066467</td>\n",
       "      <td>-1.015442</td>\n",
       "      <td>0.089554</td>\n",
       "    </tr>\n",
       "    <tr>\n",
       "      <th>2</th>\n",
       "      <td>20588</td>\n",
       "      <td>1565109930987</td>\n",
       "      <td>2019-08-06T16:45:30.987</td>\n",
       "      <td>-0.043488</td>\n",
       "      <td>-1.021255</td>\n",
       "      <td>0.178467</td>\n",
       "    </tr>\n",
       "    <tr>\n",
       "      <th>3</th>\n",
       "      <td>20589</td>\n",
       "      <td>1565109931087</td>\n",
       "      <td>2019-08-06T16:45:31.087</td>\n",
       "      <td>-0.053802</td>\n",
       "      <td>-0.987701</td>\n",
       "      <td>0.068985</td>\n",
       "    </tr>\n",
       "    <tr>\n",
       "      <th>4</th>\n",
       "      <td>20590</td>\n",
       "      <td>1565109931188</td>\n",
       "      <td>2019-08-06T16:45:31.188</td>\n",
       "      <td>-0.054031</td>\n",
       "      <td>-1.003616</td>\n",
       "      <td>0.126450</td>\n",
       "    </tr>\n",
       "    <tr>\n",
       "      <th>5</th>\n",
       "      <td>20591</td>\n",
       "      <td>1565109931288</td>\n",
       "      <td>2019-08-06T16:45:31.288</td>\n",
       "      <td>-0.010880</td>\n",
       "      <td>-0.967575</td>\n",
       "      <td>0.170898</td>\n",
       "    </tr>\n",
       "    <tr>\n",
       "      <th>6</th>\n",
       "      <td>20592</td>\n",
       "      <td>1565109931388</td>\n",
       "      <td>2019-08-06T16:45:31.388</td>\n",
       "      <td>0.052841</td>\n",
       "      <td>-0.982330</td>\n",
       "      <td>0.235565</td>\n",
       "    </tr>\n",
       "    <tr>\n",
       "      <th>7</th>\n",
       "      <td>20593</td>\n",
       "      <td>1565109931488</td>\n",
       "      <td>2019-08-06T16:45:31.488</td>\n",
       "      <td>0.032974</td>\n",
       "      <td>-1.053207</td>\n",
       "      <td>0.256714</td>\n",
       "    </tr>\n",
       "    <tr>\n",
       "      <th>8</th>\n",
       "      <td>20594</td>\n",
       "      <td>1565109931589</td>\n",
       "      <td>2019-08-06T16:45:31.589</td>\n",
       "      <td>-0.090424</td>\n",
       "      <td>-0.972794</td>\n",
       "      <td>0.356308</td>\n",
       "    </tr>\n",
       "    <tr>\n",
       "      <th>9</th>\n",
       "      <td>20595</td>\n",
       "      <td>1565109931689</td>\n",
       "      <td>2019-08-06T16:45:31.689</td>\n",
       "      <td>0.124268</td>\n",
       "      <td>-0.890533</td>\n",
       "      <td>0.223221</td>\n",
       "    </tr>\n",
       "  </tbody>\n",
       "</table>\n",
       "</div>"
      ],
      "text/plain": [
       "   Unnamed: 0      timestamp                 UTC time         x         y  \\\n",
       "0       20586  1565109930787  2019-08-06T16:45:30.787 -0.006485 -0.934860   \n",
       "1       20587  1565109930887  2019-08-06T16:45:30.887 -0.066467 -1.015442   \n",
       "2       20588  1565109930987  2019-08-06T16:45:30.987 -0.043488 -1.021255   \n",
       "3       20589  1565109931087  2019-08-06T16:45:31.087 -0.053802 -0.987701   \n",
       "4       20590  1565109931188  2019-08-06T16:45:31.188 -0.054031 -1.003616   \n",
       "5       20591  1565109931288  2019-08-06T16:45:31.288 -0.010880 -0.967575   \n",
       "6       20592  1565109931388  2019-08-06T16:45:31.388  0.052841 -0.982330   \n",
       "7       20593  1565109931488  2019-08-06T16:45:31.488  0.032974 -1.053207   \n",
       "8       20594  1565109931589  2019-08-06T16:45:31.589 -0.090424 -0.972794   \n",
       "9       20595  1565109931689  2019-08-06T16:45:31.689  0.124268 -0.890533   \n",
       "\n",
       "          z  \n",
       "0 -0.069046  \n",
       "1  0.089554  \n",
       "2  0.178467  \n",
       "3  0.068985  \n",
       "4  0.126450  \n",
       "5  0.170898  \n",
       "6  0.235565  \n",
       "7  0.256714  \n",
       "8  0.356308  \n",
       "9  0.223221  "
      ]
     },
     "execution_count": 3,
     "metadata": {},
     "output_type": "execute_result"
    }
   ],
   "source": [
    "df1_time_series.head(10) # shows first 10 rows of this data frame"
   ]
  },
  {
   "cell_type": "code",
   "execution_count": 4,
   "id": "0a7e8598",
   "metadata": {},
   "outputs": [
    {
     "name": "stdout",
     "output_type": "stream",
     "text": [
      "<class 'pandas.core.frame.DataFrame'>\n",
      "RangeIndex: 3744 entries, 0 to 3743\n",
      "Data columns (total 6 columns):\n",
      " #   Column      Non-Null Count  Dtype  \n",
      "---  ------      --------------  -----  \n",
      " 0   Unnamed: 0  3744 non-null   int64  \n",
      " 1   timestamp   3744 non-null   int64  \n",
      " 2   UTC time    3744 non-null   object \n",
      " 3   x           3744 non-null   float64\n",
      " 4   y           3744 non-null   float64\n",
      " 5   z           3744 non-null   float64\n",
      "dtypes: float64(3), int64(2), object(1)\n",
      "memory usage: 175.6+ KB\n"
     ]
    }
   ],
   "source": [
    "df1_time_series.info() # this shows the information about a data frame. "
   ]
  },
  {
   "cell_type": "markdown",
   "id": "dc9ffb3c",
   "metadata": {},
   "source": [
    "# Data cleaning\n",
    "\n",
    "Now we clean the data and retain useful information, which we will use to train and test the model.\n",
    "Data cleaning usually requires replacing/removing any 'NaN' or 'inf' values. Also, it is useful to change\n",
    "the column names if they are not named properly. Here, I will remove the NaN values and also rename the first column which reads 'Unnamed: 0'. This name clearly is a bit odd. I will change it to 'user_id'. In this section, I will write two functions, one for data cleaning and the other for renaming of a column."
   ]
  },
  {
   "cell_type": "code",
   "execution_count": 5,
   "id": "81daacfb",
   "metadata": {},
   "outputs": [
    {
     "data": {
      "text/html": [
       "<div>\n",
       "<style scoped>\n",
       "    .dataframe tbody tr th:only-of-type {\n",
       "        vertical-align: middle;\n",
       "    }\n",
       "\n",
       "    .dataframe tbody tr th {\n",
       "        vertical-align: top;\n",
       "    }\n",
       "\n",
       "    .dataframe thead th {\n",
       "        text-align: right;\n",
       "    }\n",
       "</style>\n",
       "<table border=\"1\" class=\"dataframe\">\n",
       "  <thead>\n",
       "    <tr style=\"text-align: right;\">\n",
       "      <th></th>\n",
       "      <th>user_id</th>\n",
       "      <th>timestamp</th>\n",
       "      <th>UTC time</th>\n",
       "      <th>label</th>\n",
       "    </tr>\n",
       "  </thead>\n",
       "  <tbody>\n",
       "    <tr>\n",
       "      <th>0</th>\n",
       "      <td>20589</td>\n",
       "      <td>1565109931087</td>\n",
       "      <td>2019-08-06T16:45:31.087</td>\n",
       "      <td>1</td>\n",
       "    </tr>\n",
       "    <tr>\n",
       "      <th>1</th>\n",
       "      <td>20599</td>\n",
       "      <td>1565109932090</td>\n",
       "      <td>2019-08-06T16:45:32.090</td>\n",
       "      <td>1</td>\n",
       "    </tr>\n",
       "    <tr>\n",
       "      <th>2</th>\n",
       "      <td>20609</td>\n",
       "      <td>1565109933092</td>\n",
       "      <td>2019-08-06T16:45:33.092</td>\n",
       "      <td>1</td>\n",
       "    </tr>\n",
       "    <tr>\n",
       "      <th>3</th>\n",
       "      <td>20619</td>\n",
       "      <td>1565109934094</td>\n",
       "      <td>2019-08-06T16:45:34.094</td>\n",
       "      <td>1</td>\n",
       "    </tr>\n",
       "    <tr>\n",
       "      <th>4</th>\n",
       "      <td>20629</td>\n",
       "      <td>1565109935097</td>\n",
       "      <td>2019-08-06T16:45:35.097</td>\n",
       "      <td>1</td>\n",
       "    </tr>\n",
       "  </tbody>\n",
       "</table>\n",
       "</div>"
      ],
      "text/plain": [
       "   user_id      timestamp                 UTC time  label\n",
       "0    20589  1565109931087  2019-08-06T16:45:31.087      1\n",
       "1    20599  1565109932090  2019-08-06T16:45:32.090      1\n",
       "2    20609  1565109933092  2019-08-06T16:45:33.092      1\n",
       "3    20619  1565109934094  2019-08-06T16:45:34.094      1\n",
       "4    20629  1565109935097  2019-08-06T16:45:35.097      1"
      ]
     },
     "execution_count": 5,
     "metadata": {},
     "output_type": "execute_result"
    }
   ],
   "source": [
    "# clean data\n",
    "\n",
    "def clean_data(df):\n",
    "    \"\"\" This functions takes a data frame as input and then\n",
    "    replaces the infinity with np.nan, which then drops the rows where the vale NaN occurs.\"\"\"\n",
    "    df.replace([np.inf, -np.inf], np.nan)\n",
    "    df = df.dropna(axis=0)\n",
    "    return df\n",
    "\n",
    "def rename_column(df, old_column, new_column):\n",
    "    \"\"\" This function renames a column\n",
    "    input-1: data frame\n",
    "    input-2: str (column name you want to change)\n",
    "    input-3: str (new column name)\"\"\"\n",
    "    df.rename(columns={old_column:new_column}, inplace=True)\n",
    "    return df\n",
    "\n",
    "df1_time_series = clean_data(time_series)\n",
    "df1_train_labels = clean_data(train_labels)\n",
    "df1_test_labels = clean_data(test_labels)\n",
    "df1_test_time_series = clean_data(test_time_series)\n",
    "\n",
    "# rename the first column.\n",
    "\n",
    "df1_time_series = rename_column(df1_time_series, 'Unnamed: 0', 'user_id')\n",
    "df1_test_time_series = rename_column(df1_test_time_series, 'Unnamed: 0', 'user_id')\n",
    "df1_train_labels = rename_column(df1_train_labels, 'Unnamed: 0', 'user_id')\n",
    "df1_train_labels.head()\n",
    "\n"
   ]
  },
  {
   "cell_type": "code",
   "execution_count": 7,
   "id": "d4e43368",
   "metadata": {},
   "outputs": [
    {
     "name": "stdout",
     "output_type": "stream",
     "text": [
      "375\n"
     ]
    },
    {
     "data": {
      "text/html": [
       "<div>\n",
       "<style scoped>\n",
       "    .dataframe tbody tr th:only-of-type {\n",
       "        vertical-align: middle;\n",
       "    }\n",
       "\n",
       "    .dataframe tbody tr th {\n",
       "        vertical-align: top;\n",
       "    }\n",
       "\n",
       "    .dataframe thead th {\n",
       "        text-align: right;\n",
       "    }\n",
       "</style>\n",
       "<table border=\"1\" class=\"dataframe\">\n",
       "  <thead>\n",
       "    <tr style=\"text-align: right;\">\n",
       "      <th></th>\n",
       "      <th>user_id</th>\n",
       "      <th>timestamp</th>\n",
       "      <th>UTC time</th>\n",
       "      <th>accuracy</th>\n",
       "      <th>x</th>\n",
       "      <th>y</th>\n",
       "      <th>z</th>\n",
       "    </tr>\n",
       "  </thead>\n",
       "  <tbody>\n",
       "    <tr>\n",
       "      <th>0</th>\n",
       "      <td>20586</td>\n",
       "      <td>1565109930787</td>\n",
       "      <td>2019-08-06T16:45:30.787</td>\n",
       "      <td>unknown</td>\n",
       "      <td>-0.006485</td>\n",
       "      <td>-0.934860</td>\n",
       "      <td>-0.069046</td>\n",
       "    </tr>\n",
       "    <tr>\n",
       "      <th>1</th>\n",
       "      <td>20587</td>\n",
       "      <td>1565109930887</td>\n",
       "      <td>2019-08-06T16:45:30.887</td>\n",
       "      <td>unknown</td>\n",
       "      <td>-0.066467</td>\n",
       "      <td>-1.015442</td>\n",
       "      <td>0.089554</td>\n",
       "    </tr>\n",
       "    <tr>\n",
       "      <th>2</th>\n",
       "      <td>20588</td>\n",
       "      <td>1565109930987</td>\n",
       "      <td>2019-08-06T16:45:30.987</td>\n",
       "      <td>unknown</td>\n",
       "      <td>-0.043488</td>\n",
       "      <td>-1.021255</td>\n",
       "      <td>0.178467</td>\n",
       "    </tr>\n",
       "    <tr>\n",
       "      <th>3</th>\n",
       "      <td>20589</td>\n",
       "      <td>1565109931087</td>\n",
       "      <td>2019-08-06T16:45:31.087</td>\n",
       "      <td>unknown</td>\n",
       "      <td>-0.053802</td>\n",
       "      <td>-0.987701</td>\n",
       "      <td>0.068985</td>\n",
       "    </tr>\n",
       "    <tr>\n",
       "      <th>4</th>\n",
       "      <td>20590</td>\n",
       "      <td>1565109931188</td>\n",
       "      <td>2019-08-06T16:45:31.188</td>\n",
       "      <td>unknown</td>\n",
       "      <td>-0.054031</td>\n",
       "      <td>-1.003616</td>\n",
       "      <td>0.126450</td>\n",
       "    </tr>\n",
       "  </tbody>\n",
       "</table>\n",
       "</div>"
      ],
      "text/plain": [
       "   user_id      timestamp                 UTC time accuracy         x  \\\n",
       "0    20586  1565109930787  2019-08-06T16:45:30.787  unknown -0.006485   \n",
       "1    20587  1565109930887  2019-08-06T16:45:30.887  unknown -0.066467   \n",
       "2    20588  1565109930987  2019-08-06T16:45:30.987  unknown -0.043488   \n",
       "3    20589  1565109931087  2019-08-06T16:45:31.087  unknown -0.053802   \n",
       "4    20590  1565109931188  2019-08-06T16:45:31.188  unknown -0.054031   \n",
       "\n",
       "          y         z  \n",
       "0 -0.934860 -0.069046  \n",
       "1 -1.015442  0.089554  \n",
       "2 -1.021255  0.178467  \n",
       "3 -0.987701  0.068985  \n",
       "4 -1.003616  0.126450  "
      ]
     },
     "execution_count": 7,
     "metadata": {},
     "output_type": "execute_result"
    }
   ],
   "source": [
    "# In this step we'll drop any rows where we don't have any timestamp value (if any), i.e., timestamp = 0.\n",
    "\n",
    "df1_time_series = df1_time_series[time_series['timestamp'] != 0]\n",
    "df1_train_labels = df1_train_labels[train_labels['timestamp'] != 0]\n",
    "df1_test_time_series = df1_test_time_series[test_time_series['timestamp'] != 0]\n",
    "\n",
    "\n",
    "print(len(df1_train_labels))\n",
    "df1_train_labels.head()\n",
    "df1_time_series.head()"
   ]
  },
  {
   "cell_type": "markdown",
   "id": "342cc9f5",
   "metadata": {},
   "source": [
    "# Data Extraction for training\n",
    "\n",
    "Now it is time to extract data for data exploration and training. We are provided train labels for only 375 data points. However, the \"train_time_series.csv\" contains 3744 data points. Also, \"train_labels\" does not contain the x, y, z accelerometer data. This means we have to exctract the x, y, z-accelerometer data from \"train_time_series\" data frame and combine it with the data from train_labels to get the complete data set for exploration and training. \n",
    "\n",
    "A quick look to the two data frames will reveal that the data in train_labels are actually every 10th data point from the \"train_time_series\" data frame. So, we extract these values and combine to get the complete data set with labels. For training and data exploration, I will use the data in 'df2'. However, for prediction, I will create another data set 'df3', and use it after I select the model and its parameters."
   ]
  },
  {
   "cell_type": "code",
   "execution_count": 8,
   "id": "3a518968",
   "metadata": {},
   "outputs": [],
   "source": [
    "X0 = df1_time_series.iloc[3::10] # extracting every 10th row from the data frame df1_time_series, starting with the 3rd row.\n",
    "X0.head()\n",
    "df2 = X0.drop(['UTC time'], axis=1) # the time stamp data contains the time data which is not useful for our training.\n",
    "                                    #So, we don't nee 'UTC time' data column\n",
    "\n",
    "# After extracting every 10th row from time_series data frame, the index column also reads like 0, 10. \n",
    "# So, we need to change that to a continuous indices of integers, i.e., 1, 2, 3,... etc.\n",
    "\n",
    "\n",
    "df2 = df2.rename(index={k:v for k,v in zip(df2.index, range(0,len(df2)))}) \n",
    "df2['label'] = df1_train_labels.label # complete the data set by creating a label column in the data frame X.\n",
    "\n",
    "# Extract data and save it to df3 for model prediction.\n",
    "# Here, we will extract every 10th row of the df1_test_time_series data, strating with the 9th row.\n",
    "df3 = df1_test_time_series.iloc[9::10]\n",
    "df3 = df3.rename(index={k:v for k,v in zip(df3.index, range(0,len(df3)))}) # rename the indices as a continuous set of  inteers, 1,2,3..etc.\n"
   ]
  },
  {
   "cell_type": "markdown",
   "id": "90004660",
   "metadata": {},
   "source": [
    "# Exploratory data analysis\n",
    "\n",
    "In this section, we explore the features of our data by visualising them through the seaborn library. First, we will plot the frequency of each labels."
   ]
  },
  {
   "cell_type": "code",
   "execution_count": 9,
   "id": "bfbf6082",
   "metadata": {},
   "outputs": [
    {
     "data": {
      "text/plain": [
       "<AxesSubplot:>"
      ]
     },
     "execution_count": 9,
     "metadata": {},
     "output_type": "execute_result"
    },
    {
     "data": {
      "image/png": "[encoded data removed]",
      "text/plain": [
       "<Figure size 1000x500 with 2 Axes>"
      ]
     },
     "metadata": {},
     "output_type": "display_data"
    }
   ],
   "source": [
    "fig, ax = plt.subplots(1,2,figsize=(10,5))  # create a subplot for 2 figures (1 row, 2 columns)\n",
    "sns.set_style('whitegrid') # set background as a white grid\n",
    "sns.countplot(data = df2, ax = ax[0], x='label').set(xlabel='Label', ylabel='Count') # first plot\n",
    "# This plots the count of each labels\n",
    "\n",
    "df2['label'].value_counts().plot.pie(autopct='%1.2f%%', ax = ax[1], shadow=False, label=\"\") # second plot.\n",
    "# creats a pie chart which shows fraction each label occupies in the data set.\n"
   ]
  },
  {
   "cell_type": "markdown",
   "id": "4bb9cec8",
   "metadata": {},
   "source": [
    "Here, 1 = standing, 2 = Walking, 3 = stairs down, 4 = stairs up.\n",
    "\n",
    "The above plot shows the walking count is more than other activities and more than 50% of the data belong to category 2, i.e., walking. It is interesting to see that the walking count is less than standing count which means people prefer walking than simply standing. The plot also shows that walking upstais is less frequent than walking down the stairs. This is probably because it is more exhausting to walk upstairs than down stairs.\n",
    "\n",
    "Next, we plot histograms for each x, y, z values. As can be seen from the figure below, the histogram plots for accelerometer data along axis roughly follows a normal distribution."
   ]
  },
  {
   "cell_type": "code",
   "execution_count": 10,
   "id": "7110f78b",
   "metadata": {},
   "outputs": [
    {
     "data": {
      "text/plain": [
       "Text(0.5, 1.0, 'z')"
      ]
     },
     "execution_count": 10,
     "metadata": {},
     "output_type": "execute_result"
    },
    {
     "data": {
      "image/png": "[encoded data removed]",
      "text/plain": [
       "<Figure size 1000x300 with 3 Axes>"
      ]
     },
     "metadata": {},
     "output_type": "display_data"
    }
   ],
   "source": [
    "fig, ax = plt.subplots(1, 3, figsize=(10,3)) # create a subplot for three figures in one row and three columns\n",
    "sns.histplot(data=df2, x='x',  ax = ax[0], color='red').set_title('x')\n",
    "sns.histplot(data=df2, x='y',  ax = ax[1], color='blue').set_title('y')\n",
    "sns.histplot(data=df2, x='z',  ax = ax[2], color='green').set_title('z')\n",
    "\n",
    "# Here, we plot histogram for x, y, z data of the accelerometer."
   ]
  },
  {
   "cell_type": "code",
   "execution_count": 26,
   "id": "38f4dfa1",
   "metadata": {},
   "outputs": [
    {
     "data": {
      "text/plain": [
       "Text(0.5, 1.0, 'timestamp')"
      ]
     },
     "execution_count": 26,
     "metadata": {},
     "output_type": "execute_result"
    },
    {
     "data": {
      "image/png": "[encoded data removed]",
      "text/plain": [
       "<Figure size 640x480 with 1 Axes>"
      ]
     },
     "metadata": {},
     "output_type": "display_data"
    }
   ],
   "source": [
    "sns.histplot(data=df2, x='timestamp', color='green').set_title('timestamp')\n"
   ]
  },
  {
   "cell_type": "code",
   "execution_count": 11,
   "id": "8912a4a8",
   "metadata": {},
   "outputs": [
    {
     "data": {
      "image/png": "[encoded data removed]",
      "text/plain": [
       "<Figure size 640x480 with 1 Axes>"
      ]
     },
     "metadata": {},
     "output_type": "display_data"
    }
   ],
   "source": [
    "# Plotting time_stamp against labels. This will show clear separation of labels.\n",
    "\n",
    "%matplotlib inline\n",
    "plt.plot(df2.label, df2.timestamp, 'b.')\n",
    "plt.xlabel('labels')\n",
    "plt.ylabel('time_stamp')\n",
    "plt.show()\n",
    "\n"
   ]
  },
  {
   "cell_type": "markdown",
   "id": "6f88e534",
   "metadata": {},
   "source": [
    "The above plot between different activity and time stamp shows that there is no overlapping between the activities\n",
    "at a given time interval. This shows that each event is independent of each other, which should be the case in a \n",
    "classification problem."
   ]
  },
  {
   "cell_type": "markdown",
   "id": "09b1de9c",
   "metadata": {},
   "source": [
    "# Model Selection for training\n",
    "\n",
    "As the problem is about predicting categorical variables, we will use a classification algorithm to train our model. There are many classifier models available, and a few of them were presented in this course itself. In the course, we used Logistic regression and Random forest classfier for our classification problems. We can also use Decision Tree classifier for our modeling. \n",
    "\n",
    "To decide which model performs better, we will use GridSearchCV to find the scores for each model and take the best performing model. The GridSearchCV performs cross validation on the data with different hyperparameters and stores the best score and the corresponding hyper parameter. In a k-fold cross validation, the program splits the data set into n/k test sets and n - n/k train sets, where n is the total number of data points and k < n."
   ]
  },
  {
   "cell_type": "code",
   "execution_count": 12,
   "id": "fbbecb5f",
   "metadata": {},
   "outputs": [],
   "source": [
    "from sklearn.ensemble import RandomForestClassifier\n",
    "from sklearn.linear_model import LogisticRegression\n",
    "from sklearn.tree import DecisionTreeClassifier\n",
    "from sklearn.model_selection import train_test_split\n",
    "\n",
    "from sklearn import svm\n",
    "from sklearn.model_selection import GridSearchCV\n",
    "from sklearn import tree\n"
   ]
  },
  {
   "cell_type": "code",
   "execution_count": 64,
   "id": "0ddc59f8",
   "metadata": {},
   "outputs": [],
   "source": [
    "# Define another data frame with predictor variables only.\n",
    "# Then create another variable for the target value. i.e., label of the activity.\n",
    "features = ['timestamp', 'x', 'y', 'z']\n",
    "X = df2[features]\n",
    "y = df2.label\n"
   ]
  },
  {
   "cell_type": "code",
   "execution_count": 65,
   "id": "b94149f1",
   "metadata": {},
   "outputs": [
    {
     "data": {
      "text/html": [
       "<div>\n",
       "<style scoped>\n",
       "    .dataframe tbody tr th:only-of-type {\n",
       "        vertical-align: middle;\n",
       "    }\n",
       "\n",
       "    .dataframe tbody tr th {\n",
       "        vertical-align: top;\n",
       "    }\n",
       "\n",
       "    .dataframe thead th {\n",
       "        text-align: right;\n",
       "    }\n",
       "</style>\n",
       "<table border=\"1\" class=\"dataframe\">\n",
       "  <thead>\n",
       "    <tr style=\"text-align: right;\">\n",
       "      <th></th>\n",
       "      <th>timestamp</th>\n",
       "      <th>x</th>\n",
       "      <th>y</th>\n",
       "      <th>z</th>\n",
       "    </tr>\n",
       "  </thead>\n",
       "  <tbody>\n",
       "    <tr>\n",
       "      <th>0</th>\n",
       "      <td>1565109931087</td>\n",
       "      <td>-0.053802</td>\n",
       "      <td>-0.987701</td>\n",
       "      <td>0.068985</td>\n",
       "    </tr>\n",
       "    <tr>\n",
       "      <th>1</th>\n",
       "      <td>1565109932090</td>\n",
       "      <td>0.013718</td>\n",
       "      <td>-0.852371</td>\n",
       "      <td>-0.000870</td>\n",
       "    </tr>\n",
       "    <tr>\n",
       "      <th>2</th>\n",
       "      <td>1565109933092</td>\n",
       "      <td>0.145584</td>\n",
       "      <td>-1.007843</td>\n",
       "      <td>-0.036819</td>\n",
       "    </tr>\n",
       "    <tr>\n",
       "      <th>3</th>\n",
       "      <td>1565109934094</td>\n",
       "      <td>-0.099380</td>\n",
       "      <td>-1.209686</td>\n",
       "      <td>0.304489</td>\n",
       "    </tr>\n",
       "    <tr>\n",
       "      <th>4</th>\n",
       "      <td>1565109935097</td>\n",
       "      <td>0.082794</td>\n",
       "      <td>-1.001434</td>\n",
       "      <td>-0.025375</td>\n",
       "    </tr>\n",
       "  </tbody>\n",
       "</table>\n",
       "</div>"
      ],
      "text/plain": [
       "       timestamp         x         y         z\n",
       "0  1565109931087 -0.053802 -0.987701  0.068985\n",
       "1  1565109932090  0.013718 -0.852371 -0.000870\n",
       "2  1565109933092  0.145584 -1.007843 -0.036819\n",
       "3  1565109934094 -0.099380 -1.209686  0.304489\n",
       "4  1565109935097  0.082794 -1.001434 -0.025375"
      ]
     },
     "execution_count": 65,
     "metadata": {},
     "output_type": "execute_result"
    }
   ],
   "source": [
    "# X['time_normal'] = X.timestamp.apply(lambda x: (x - X.timestamp.mean())/(X.timestamp.std()))\n",
    "X.head()"
   ]
  },
  {
   "cell_type": "code",
   "execution_count": 66,
   "id": "e3105fc7",
   "metadata": {},
   "outputs": [],
   "source": [
    "X0 = X.copy()"
   ]
  },
  {
   "cell_type": "code",
   "execution_count": 75,
   "id": "f31119a9",
   "metadata": {},
   "outputs": [
    {
     "data": {
      "text/html": [
       "<div>\n",
       "<style scoped>\n",
       "    .dataframe tbody tr th:only-of-type {\n",
       "        vertical-align: middle;\n",
       "    }\n",
       "\n",
       "    .dataframe tbody tr th {\n",
       "        vertical-align: top;\n",
       "    }\n",
       "\n",
       "    .dataframe thead th {\n",
       "        text-align: right;\n",
       "    }\n",
       "</style>\n",
       "<table border=\"1\" class=\"dataframe\">\n",
       "  <thead>\n",
       "    <tr style=\"text-align: right;\">\n",
       "      <th></th>\n",
       "      <th>timestamp</th>\n",
       "      <th>x</th>\n",
       "      <th>y</th>\n",
       "      <th>z</th>\n",
       "    </tr>\n",
       "  </thead>\n",
       "  <tbody>\n",
       "    <tr>\n",
       "      <th>20</th>\n",
       "      <td>1565109951133</td>\n",
       "      <td>0.212891</td>\n",
       "      <td>-1.295456</td>\n",
       "      <td>-0.102692</td>\n",
       "    </tr>\n",
       "    <tr>\n",
       "      <th>90</th>\n",
       "      <td>1565110021294</td>\n",
       "      <td>0.195221</td>\n",
       "      <td>-1.140976</td>\n",
       "      <td>0.469421</td>\n",
       "    </tr>\n",
       "    <tr>\n",
       "      <th>141</th>\n",
       "      <td>1565110072503</td>\n",
       "      <td>0.079727</td>\n",
       "      <td>-1.002930</td>\n",
       "      <td>0.046844</td>\n",
       "    </tr>\n",
       "    <tr>\n",
       "      <th>224</th>\n",
       "      <td>1565110155694</td>\n",
       "      <td>0.235748</td>\n",
       "      <td>-0.963409</td>\n",
       "      <td>0.219940</td>\n",
       "    </tr>\n",
       "    <tr>\n",
       "      <th>250</th>\n",
       "      <td>1565110181754</td>\n",
       "      <td>0.386871</td>\n",
       "      <td>-1.080902</td>\n",
       "      <td>0.030136</td>\n",
       "    </tr>\n",
       "  </tbody>\n",
       "</table>\n",
       "</div>"
      ],
      "text/plain": [
       "         timestamp         x         y         z\n",
       "20   1565109951133  0.212891 -1.295456 -0.102692\n",
       "90   1565110021294  0.195221 -1.140976  0.469421\n",
       "141  1565110072503  0.079727 -1.002930  0.046844\n",
       "224  1565110155694  0.235748 -0.963409  0.219940\n",
       "250  1565110181754  0.386871 -1.080902  0.030136"
      ]
     },
     "execution_count": 75,
     "metadata": {},
     "output_type": "execute_result"
    }
   ],
   "source": [
    "# Split the data into training and testing data. \n",
    "# Here, the test_size determines the number of data points to considered for testing.\n",
    "# e.g. if test_size=0.2, then 20% of the data will be used for testing and rest 80% for training.\n",
    "\n",
    "X_train, X_test, y_train, y_test = train_test_split(X, y, test_size=0.15, random_state=0)\n",
    "# split = int(0.75*len(X))\n",
    "# X_train = X0[0:split]\n",
    "# y_train = y[0:split]\n",
    "# X_test = X0[split:]\n",
    "# y_test = y[split:]\n",
    "X_train.head()"
   ]
  },
  {
   "cell_type": "code",
   "execution_count": 19,
   "id": "678a0a36",
   "metadata": {},
   "outputs": [
    {
     "data": {
      "text/plain": [
       "(262,)"
      ]
     },
     "execution_count": 19,
     "metadata": {},
     "output_type": "execute_result"
    }
   ],
   "source": [
    "y_train.shape"
   ]
  },
  {
   "cell_type": "code",
   "execution_count": 79,
   "id": "e9837175",
   "metadata": {},
   "outputs": [
    {
     "name": "stdout",
     "output_type": "stream",
     "text": [
      "                 model  best_score            best_param\n",
      "0                 tree    0.568000      {'max_depth': 1}\n",
      "1        random_forest    0.570667  {'n_estimators': 50}\n",
      "2  logistic_regression    0.568000              {'C': 1}\n"
     ]
    }
   ],
   "source": [
    "# define a dictionary for GridSearchCV\n",
    "# The dictionary contains model names as keys and then another dictionary as value, which contains\n",
    "# the model and parameters for the corresponding model.\n",
    "# Here, I will take a few parameters and look for the best model.\n",
    "\n",
    "model_params = {\"tree\":{\"model\": DecisionTreeClassifier(random_state=0), \n",
    "                      \"params\": {\"max_depth\": list(range(1,5))}},\n",
    "              \"random_forest\":{\"model\": RandomForestClassifier(random_state=0),\n",
    "                               \"params\":{\"n_estimators\":[1,5,10,20,50,60,70,80,1000]}},\n",
    "              \"logistic_regression\":{\"model\":LogisticRegression(solver = 'liblinear',multi_class='auto',random_state=0),\n",
    "                                    \"params\":{\"C\":[1,5,10]}},\n",
    "\n",
    "               }\n",
    "\n",
    "scores = []\n",
    "for model_name, mp in model_params.items():\n",
    "    clf = GridSearchCV(mp['model'], mp['params'], cv = 5, return_train_score=False)\n",
    "    clf.fit(X,y)\n",
    "    scores.append({\n",
    "        'model':model_name,\n",
    "        'best_score': clf.best_score_,\n",
    "        'best_param': clf.best_params_\n",
    "    })\n",
    "    \n",
    "df0 = pd.DataFrame(scores) # convert the scores dictionary into a data frame\n",
    "\n",
    "print(df0) # print the values to get the scores for various models"
   ]
  },
  {
   "cell_type": "markdown",
   "id": "f7d737e8",
   "metadata": {},
   "source": [
    "It is clear from the above data frame that Random Forest Classifier performs better than decision tree and logistic regression. So, I will choose random forest classifier to train and test my model. "
   ]
  },
  {
   "cell_type": "markdown",
   "id": "4631559c",
   "metadata": {},
   "source": [
    "# Finding the best parameter for training\n",
    "\n",
    "Now lets find out the value of n_estimators that gives us highest accuracy score. To acheive this we train the model for different n_estimators parameter and append each score to a list and then plot the scores against the n_estimators values."
   ]
  },
  {
   "cell_type": "code",
   "execution_count": 80,
   "id": "c61d1c34",
   "metadata": {},
   "outputs": [
    {
     "name": "stdout",
     "output_type": "stream",
     "text": [
      "1\n"
     ]
    },
    {
     "data": {
      "image/png": "[encoded data removed]",
      "text/plain": [
       "<Figure size 640x480 with 1 Axes>"
      ]
     },
     "metadata": {},
     "output_type": "display_data"
    }
   ],
   "source": [
    "lst1 = []\n",
    "# X_train, X_test, y_train, y_test = train_test_split(X, y, test_size=0.15, random_state=0)\n",
    "for i in range(1,100):\n",
    "    model1 = RandomForestClassifier(n_estimators=i) #create an object instance of RandomForestClassifier\n",
    "    model1.fit(X_train,y_train)  # train the model\n",
    "    lst1.append(model1.score(X_test, y_test)) # save the model score.\n",
    "\n",
    "lst0 = [i for i in range(1,100)]\n",
    "plt.plot(lst0, lst1, 'r.')\n",
    "print(lst1.index(max(lst1)));"
   ]
  },
  {
   "cell_type": "markdown",
   "id": "91fdc61c",
   "metadata": {},
   "source": [
    "Here, we get the maximum score for n_estimators = 8, with random_state = 0. So, we will use this to train our model\n",
    "and the subsequently use the model to predict for the test_labels given to us."
   ]
  },
  {
   "cell_type": "code",
   "execution_count": 70,
   "id": "f8191623",
   "metadata": {},
   "outputs": [
    {
     "data": {
      "text/plain": [
       "0.5638297872340425"
      ]
     },
     "execution_count": 70,
     "metadata": {},
     "output_type": "execute_result"
    }
   ],
   "source": [
    "# X_train, X_test, y_train, y_test = train_test_split(X, y, test_size=0.15, random_state=0)\n",
    "\n",
    "# create an object instance of RandomForestClassifier, with parameter n_estimator=80.\n",
    "rfc = RandomForestClassifier(n_estimators=10, random_state=0)\n",
    "\n",
    "rfc.fit(X_train,y_train)  # now train the model using X_train and y_train data\n",
    "rfc.score(X_test, y_test) # check the model score \n"
   ]
  },
  {
   "cell_type": "code",
   "execution_count": 72,
   "id": "1ccfe262",
   "metadata": {},
   "outputs": [
    {
     "data": {
      "text/plain": [
       "0.5638297872340425"
      ]
     },
     "execution_count": 72,
     "metadata": {},
     "output_type": "execute_result"
    }
   ],
   "source": [
    "from sklearn.metrics import accuracy_score\n",
    "\n",
    "y_pred = rfc.predict(X_test)\n",
    "accuracy_score(y_test, y_pred)"
   ]
  },
  {
   "cell_type": "code",
   "execution_count": 73,
   "id": "5e1d49f2",
   "metadata": {},
   "outputs": [
    {
     "data": {
      "text/html": [
       "<div>\n",
       "<style scoped>\n",
       "    .dataframe tbody tr th:only-of-type {\n",
       "        vertical-align: middle;\n",
       "    }\n",
       "\n",
       "    .dataframe tbody tr th {\n",
       "        vertical-align: top;\n",
       "    }\n",
       "\n",
       "    .dataframe thead th {\n",
       "        text-align: right;\n",
       "    }\n",
       "</style>\n",
       "<table border=\"1\" class=\"dataframe\">\n",
       "  <thead>\n",
       "    <tr style=\"text-align: right;\">\n",
       "      <th></th>\n",
       "      <th>timestamp</th>\n",
       "      <th>x</th>\n",
       "      <th>y</th>\n",
       "      <th>z</th>\n",
       "    </tr>\n",
       "  </thead>\n",
       "  <tbody>\n",
       "    <tr>\n",
       "      <th>0</th>\n",
       "      <td>1565110307041</td>\n",
       "      <td>0.098282</td>\n",
       "      <td>-0.833771</td>\n",
       "      <td>0.118042</td>\n",
       "    </tr>\n",
       "    <tr>\n",
       "      <th>1</th>\n",
       "      <td>1565110308043</td>\n",
       "      <td>0.348465</td>\n",
       "      <td>-0.946701</td>\n",
       "      <td>-0.051041</td>\n",
       "    </tr>\n",
       "    <tr>\n",
       "      <th>2</th>\n",
       "      <td>1565110309046</td>\n",
       "      <td>0.377335</td>\n",
       "      <td>-0.849243</td>\n",
       "      <td>-0.026474</td>\n",
       "    </tr>\n",
       "    <tr>\n",
       "      <th>3</th>\n",
       "      <td>1565110310048</td>\n",
       "      <td>0.110077</td>\n",
       "      <td>-0.520325</td>\n",
       "      <td>0.312714</td>\n",
       "    </tr>\n",
       "    <tr>\n",
       "      <th>4</th>\n",
       "      <td>1565110311050</td>\n",
       "      <td>0.283478</td>\n",
       "      <td>-0.892548</td>\n",
       "      <td>-0.085876</td>\n",
       "    </tr>\n",
       "  </tbody>\n",
       "</table>\n",
       "</div>"
      ],
      "text/plain": [
       "       timestamp         x         y         z\n",
       "0  1565110307041  0.098282 -0.833771  0.118042\n",
       "1  1565110308043  0.348465 -0.946701 -0.051041\n",
       "2  1565110309046  0.377335 -0.849243 -0.026474\n",
       "3  1565110310048  0.110077 -0.520325  0.312714\n",
       "4  1565110311050  0.283478 -0.892548 -0.085876"
      ]
     },
     "execution_count": 73,
     "metadata": {},
     "output_type": "execute_result"
    }
   ],
   "source": [
    "# Extract test data for prediction from df3.\n",
    "X_pred_data = df3.drop(['user_id', 'UTC time', 'accuracy'], axis=1)\n",
    "X_pred_data.head() # show first 5 rows\n",
    "\n",
    "# We want to predict values for this data set"
   ]
  },
  {
   "cell_type": "code",
   "execution_count": 74,
   "id": "c8458dd8",
   "metadata": {},
   "outputs": [
    {
     "name": "stdout",
     "output_type": "stream",
     "text": [
      "model predicts 68.0% of the test data belong to category 2\n",
      "model predicts 0.0% of the test data belong to category 2\n",
      "[3 2 2 3 2 2 3 3 2 2 2 3 3 2 2 2 2 3 2 3 2 2 3 2 2 3 2 2 2 3 2 2 2 3 2 2 2\n",
      " 2 2 2 2 2 2 2 2 2 2 2 2 2 2 2 2 2 3 3 3 2 3 2 2 2 2 2 2 3 3 3 3 2 3 3 2 3\n",
      " 2 2 3 2 3 2 2 3 2 3 3 3 3 3 2 2 2 2 2 2 2 2 2 2 2 2 3 3 3 2 2 3 2 2 3 3 2\n",
      " 2 2 2 3 2 2 3 3 2 2 2 2 2 2]\n"
     ]
    }
   ],
   "source": [
    "# Prediction from the model\n",
    "\n",
    "new_pred = rfc.predict(X_pred_data)\n",
    "print(\"model predicts {}% of the test data belong to category {}\".format(100*np.count_nonzero(new_pred==2)/ len(new_pred),2))\n",
    "print(\"model predicts {}% of the test data belong to category {}\".format(100*np.count_nonzero(new_pred==4)/ len(new_pred),2))\n",
    "\n",
    "print(new_pred)"
   ]
  },
  {
   "cell_type": "markdown",
   "id": "e3b35deb",
   "metadata": {},
   "source": [
    "# Results\n",
    "\n",
    "The RandomForestClassifier model used for this model, has a 72% accuracy. Using this model, I predicted the activity labels for the given test data. The model classifies 96% of the data as label 2 and rest of the 4% as label 4. This should not be surprising as in the original data set 56% of the data belonged to activity label 2. So, given that the whole data set (training + testing) is a well mixed data set, the probability that a given data point belonging to category 2 is more than 50%. It is also interesting to notice that the prediction does not contain any category belonging to label 3 or 1.\n",
    "\n",
    "On the course website, the classification accuracy for this prediction, however, shows an accuracy of 34%. This probably means that the model has low bias and high variance, i.e., it has high train accuracy and low test accuracy. \n"
   ]
  },
  {
   "cell_type": "code",
   "execution_count": 21,
   "id": "9634216f",
   "metadata": {},
   "outputs": [],
   "source": [
    "pred_file = pd.DataFrame(new_pred, columns=['prediction']) # convert the predicted file to a data frame\n",
    "pred_file.to_csv(\"predictions.csv\")  # save the data frame to a csv file."
   ]
  },
  {
   "cell_type": "markdown",
   "id": "00600224",
   "metadata": {},
   "source": [
    "# Conclusion\n",
    "\n",
    "In this project, we were given the accelerometer data and the task was to classify activities from the timestamp and accelerometer data. For this classification problem, I conducted a grid search method to find the best model to train and predict the correct values. The grid search was performed on four different models, namely, LogisticRegression, RandomForestClassifier, and Decission Tree Classifier with different hyper parameters. I found that RandomForestClassifier performs better than others with the hyper prameter n_estimator=80.\n",
    "\n",
    "I used RandomForestClassifier to train my model and predict the labels for the given test data file. \n",
    "The model is 72% accurate. I used this model to predict the given test cases for which the label data was not provided. Interestingly, the model classifies more than 95% of the test data as activity 2, i.e., walking. This should not be surprising as more than 56% of the data belong to this category in the training data set.\n",
    "\n",
    "Modeling the activity classification was challenging, and the accuracy was also poor. I tuned the hyperparameter n_estimator and the training sample size to improve the accuracy score from 55% to 72%. However, the testing prediction on the course website shows a accuracy of 34% for the predicted values, which differs significantly from the score I got in my model. I believe, the model score can be improved by adding more data to the data set or doing necessary feature engineering.\n",
    "\n"
   ]
  },
  {
   "cell_type": "code",
   "execution_count": null,
   "id": "f87e2561",
   "metadata": {},
   "outputs": [],
   "source": []
  }
 ],
 "metadata": {
  "kernelspec": {
   "display_name": "Python 3 (ipykernel)",
   "language": "python",
   "name": "python3"
  },
  "language_info": {
   "codemirror_mode": {
    "name": "ipython",
    "version": 3
   },
   "file_extension": ".py",
   "mimetype": "text/x-python",
   "name": "python",
   "nbconvert_exporter": "python",
   "pygments_lexer": "ipython3",
   "version": "3.9.13"
  }
 },
 "nbformat": 4,
 "nbformat_minor": 5
}
